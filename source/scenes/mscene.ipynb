{
  "nbformat": 4,
  "nbformat_minor": 0,
  "metadata": {
    "colab": {
      "provenance": [],
      "authorship_tag": "ABX9TyPrvYakTKESZjQow4r5oirK",
      "include_colab_link": true
    },
    "kernelspec": {
      "name": "python3",
      "display_name": "Python 3"
    },
    "language_info": {
      "name": "python"
    }
  },
  "cells": [
    {
      "cell_type": "markdown",
      "metadata": {
        "id": "view-in-github",
        "colab_type": "text"
      },
      "source": [
        "<a href=\"https://colab.research.google.com/github/curiouswalk/mscene/blob/main/source/scenes/mscene.ipynb\" target=\"_parent\"><img src=\"https://colab.research.google.com/assets/colab-badge.svg\" alt=\"Open In Colab\"/></a>"
      ]
    },
    {
      "cell_type": "markdown",
      "source": [
        "# Mscene\n",
        "\n",
        "A Python library for creating science animations with Manim in Google Colab. &#10024;&nbsp;[mscene.curiouswalk.com](https://mscene.curiouswalk.com)"
      ],
      "metadata": {
        "id": "yNXt9zhZfn6h"
      }
    },
    {
      "cell_type": "markdown",
      "source": [
        "## Setup"
      ],
      "metadata": {
        "id": "eULwb3Ini5Q1"
      }
    },
    {
      "cell_type": "code",
      "source": [
        "%pip install -q mscene\n",
        "import mscene\n",
        "print(mscene.__about__)"
      ],
      "metadata": {
        "id": "hL1OOSlHcGk1"
      },
      "execution_count": null,
      "outputs": []
    },
    {
      "cell_type": "code",
      "source": [
        "%mscene -h"
      ],
      "metadata": {
        "id": "b0sVYAV3aaiN"
      },
      "execution_count": null,
      "outputs": []
    },
    {
      "cell_type": "code",
      "source": [
        "%mscene -l manim"
      ],
      "metadata": {
        "id": "naQ2XRAK32_Y"
      },
      "execution_count": null,
      "outputs": []
    },
    {
      "cell_type": "code",
      "source": [
        "from mscene.manim import *"
      ],
      "metadata": {
        "id": "smJo8BfrKfvn"
      },
      "execution_count": null,
      "outputs": []
    },
    {
      "cell_type": "markdown",
      "source": [
        "## Example Scenes"
      ],
      "metadata": {
        "id": "ChNWO0aP7prt"
      }
    },
    {
      "cell_type": "markdown",
      "source": [
        "### Manim Scene"
      ],
      "metadata": {
        "id": "E8rpD5H8bLGx"
      }
    },
    {
      "cell_type": "code",
      "source": [
        "%%manim -qm ManimScene\n",
        "class ManimScene(Scene):\n",
        "    def construct(self):\n",
        "        banner = ManimBanner()\n",
        "        self.play(banner.create())\n",
        "        self.play(banner.expand())\n",
        "        self.wait(1.5)"
      ],
      "metadata": {
        "id": "Opt7RsK_8Fxc"
      },
      "execution_count": null,
      "outputs": []
    },
    {
      "cell_type": "markdown",
      "source": [
        "### Fractal Scene"
      ],
      "metadata": {
        "id": "V44bG7SybOjF"
      }
    },
    {
      "cell_type": "code",
      "source": [
        "%mscene plugins\n",
        "from mscene.plugins import *"
      ],
      "metadata": {
        "id": "qFLa9HLZau_r"
      },
      "execution_count": null,
      "outputs": []
    },
    {
      "cell_type": "code",
      "source": [
        "%%manim -qm FractalScene\n",
        "class FractalScene(Scene):\n",
        "    def construct(self):\n",
        "        ks = KochSnowflake(level=2)\n",
        "        self.add(ks)\n",
        "        self.play(ks.animate.next_level())\n",
        "        self.wait(1.5)\n",
        "        self.play(ks.animate.prev_level())\n",
        "        self.wait(1.5)"
      ],
      "metadata": {
        "id": "VjYweG39a8wi"
      },
      "execution_count": null,
      "outputs": []
    },
    {
      "cell_type": "markdown",
      "source": [
        "## New Scene"
      ],
      "metadata": {
        "id": "Kmcjj05JU3BQ"
      }
    },
    {
      "cell_type": "code",
      "source": [
        "%%manim -qm NewScene\n",
        "\n",
        "class NewScene(Scene):\n",
        "    def construct(self):\n"
      ],
      "metadata": {
        "id": "bVcGeggWVSOY"
      },
      "execution_count": null,
      "outputs": []
    },
    {
      "cell_type": "markdown",
      "source": [
        "## End Session\n",
        "\n",
        "Run this code cell to disconnect the runtime and terminate the session."
      ],
      "metadata": {
        "id": "Fn6lcBcm9vSl"
      }
    },
    {
      "cell_type": "code",
      "source": [
        "from google.colab import runtime\n",
        "runtime.unassign()"
      ],
      "metadata": {
        "id": "CnoWqKyO9xm_"
      },
      "execution_count": null,
      "outputs": []
    }
  ]
}