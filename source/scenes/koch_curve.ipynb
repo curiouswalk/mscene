{
  "nbformat": 4,
  "nbformat_minor": 0,
  "metadata": {
    "colab": {
      "provenance": [],
      "gpuType": "V28",
      "authorship_tag": "ABX9TyNXQNJ8HBRIZgI0Gu0s4wq/",
      "include_colab_link": true
    },
    "kernelspec": {
      "name": "python3",
      "display_name": "Python 3"
    },
    "language_info": {
      "name": "python"
    },
    "accelerator": "TPU"
  },
  "cells": [
    {
      "cell_type": "markdown",
      "metadata": {
        "id": "view-in-github",
        "colab_type": "text"
      },
      "source": [
        "<a href=\"https://colab.research.google.com/github/curiouswalk/mscene/blob/main/source/scenes/koch_curve.ipynb\" target=\"_parent\"><img src=\"https://colab.research.google.com/assets/colab-badge.svg\" alt=\"Open In Colab\"/></a>"
      ]
    },
    {
      "cell_type": "markdown",
      "source": [
        "# Koch Curve\n",
        "\n",
        "<a href=\"https://www.youtube.com/watch?v=fDGN3bGcXSg\"><img width=\"50%\" src=\"https://img.youtube.com/vi/fDGN3bGcXSg/maxresdefault.jpg\" alt=\"Watch on YouTube\"></a>\n",
        "\n",
        "In mathematics, the intriguing concept of self-similarity emerges, wherein an object bears resemblance, either entirety or partially, to a smaller iteration of itself. A remarkable illustration of this phenomenon is the Koch Curve, showcasing the beauty of complexity inherent in self-similar geometric patterns. A fractal formed from the Koch Curve is the Koch Snowflake. It is created by repeatedly dividing each side of an equilateral triangle into three segments and replacing the middle segment with a smaller equilateral triangle. This process leads to a shape with an infinite perimeter enclosing a finite area. &#10024;&nbsp;[mscene.curiouswalk.com/scenes/koch-curve](https://mscene.curiouswalk.com/scenes/koch-curve)"
      ],
      "metadata": {
        "id": "Vf3VcAXsKO6b"
      }
    },
    {
      "cell_type": "markdown",
      "source": [
        "## Setup"
      ],
      "metadata": {
        "id": "GqUiZVjOMz_r"
      }
    },
    {
      "cell_type": "code",
      "execution_count": null,
      "metadata": {
        "id": "adwd99STI--b"
      },
      "outputs": [],
      "source": [
        "%pip install -q mscene\n",
        "import mscene\n",
        "%mscene -l manim plugins"
      ]
    },
    {
      "cell_type": "code",
      "source": [
        "from mscene.manim import *\n",
        "from mscene.plugins import *"
      ],
      "metadata": {
        "id": "EkbTlUS-f2Gm"
      },
      "execution_count": null,
      "outputs": []
    },
    {
      "cell_type": "markdown",
      "source": [
        "## Scenes"
      ],
      "metadata": {
        "id": "iiS7LDtw0Rrq"
      }
    },
    {
      "cell_type": "code",
      "source": [
        "%%manim -sqh -o image FractalImage\n",
        "# @title Select the shape, enter a level (0–4), and run this cell to generate the fractal image.\n",
        "\n",
        "class FractalImage(Scene):\n",
        "    def construct(self):\n",
        "\n",
        "        shape = \"Koch Curve\"  # @param [\"Koch Curve\",\"Koch Snowflake\",\"Koch Antisnowflake\"]\n",
        "        level = 3  # @param {\"type\":\"integer\"}\n",
        "        title = True  # @param {\"type\":\"boolean\"}\n",
        "\n",
        "        n = 0 if level < 0 else 4 if level > 4 else level\n",
        "\n",
        "        if shape == \"Koch Snowflake\":\n",
        "            color = [ManimColor(hex) for hex in (\"#0ADBEF\", \"#0A68EF\", \"#1F0AEF\")]\n",
        "            vmob = KochSnowflake(n, fill_color=color)\n",
        "        elif shape == \"Koch Antisnowflake\":\n",
        "            color = [ManimColor(hex) for hex in (\"#1F0AEF\", \"#0A68EF\", \"#0ADBEF\")]\n",
        "            vmob = KochSnowflake(n, invert=True, fill_color=color)\n",
        "        else:\n",
        "            color = [ManimColor(hex) for hex in (\"#0A68EF\", \"#0ADBEF\", \"#0A68EF\")]\n",
        "            vmob = KochCurve(n, stroke_width=8 - n, stroke_color=color)\n",
        "\n",
        "        if title:\n",
        "            text = Text(f\"{shape}\\nLevel {n}\", font_size=36).to_corner(UL, buff=0.75)\n",
        "            self.add(text, vmob)\n",
        "        else:\n",
        "            self.add(vmob)\n"
      ],
      "metadata": {
        "cellView": "form",
        "id": "Uq6bXxYjQdJO"
      },
      "execution_count": null,
      "outputs": []
    },
    {
      "cell_type": "markdown",
      "source": [
        "### Example Scenes"
      ],
      "metadata": {
        "id": "CMbpFpdIT9vG"
      }
    },
    {
      "cell_type": "code",
      "source": [
        "%%manim -qm ExampleOne\n",
        "\n",
        "class ExampleOne(Scene):\n",
        "    def construct(self):\n",
        "        kc = KochCurve(2)\n",
        "        self.add(kc)\n",
        "\n",
        "        self.play(kc.animate.next_level())\n",
        "        self.wait()\n",
        "\n",
        "        self.play(kc.animate.prev_level())\n",
        "        self.wait()"
      ],
      "metadata": {
        "id": "YPWP-Id8UAlZ"
      },
      "execution_count": null,
      "outputs": []
    },
    {
      "cell_type": "code",
      "source": [
        "%%manim -qm ExampleTwo\n",
        "\n",
        "class ExampleTwo(Scene):\n",
        "    def construct(self):\n",
        "        kc1 = KochCurve(level=1, stroke_width=6)\n",
        "        kc2 = KochCurve(level=2, stroke_width=6, group=False)\n",
        "        kc3 = KochCurve(level=3, stroke_width=6, group=False)\n",
        "        colors = color_gradient((PURE_RED, PURE_BLUE), 4)\n",
        "\n",
        "        for i, j, c in zip(kc2, kc3, colors):\n",
        "            i.set_color(c)\n",
        "            j.set_color(c)\n",
        "\n",
        "        self.add(kc1)\n",
        "        self.play(kc1.animate.next_level())\n",
        "        self.wait()\n",
        "\n",
        "        self.play(FadeTransform(kc1, kc2))\n",
        "        self.wait()\n",
        "\n",
        "        self.play(Transform(kc2, kc3, rate_func=there_and_back_with_pause, run_time=3))\n",
        "        self.wait()\n",
        "\n",
        "        self.play(FadeTransform(kc2, kc1))\n",
        "        self.wait()\n",
        "\n",
        "        self.play(kc1.animate.prev_level())\n",
        "        self.wait()"
      ],
      "metadata": {
        "id": "CJMnjVtI9sl0"
      },
      "execution_count": null,
      "outputs": []
    },
    {
      "cell_type": "markdown",
      "source": [
        "### Koch Curve"
      ],
      "metadata": {
        "id": "2cM03c0EVqmV"
      }
    },
    {
      "cell_type": "code",
      "source": [
        "%%manim -qm KochCurveScene\n",
        "\n",
        "class KochCurveScene(Scene):\n",
        "    def construct(self):\n",
        "        color = [ManimColor(hex) for hex in (\"#0A68EF\", \"#0ADBEF\", \"#0A68EF\")]\n",
        "        kc = KochCurve(level=1, stroke_width=8, stroke_color=color)\n",
        "        title = Text(\"Koch Curve\\nLevel 1\").to_corner(UL, buff=0.75)\n",
        "\n",
        "        self.add(title, kc)\n",
        "        self.wait()\n",
        "\n",
        "        for level in (2, 3, 2, 1):\n",
        "            self.play(\n",
        "                kc.animate.new_level(level, stroke_width=8 - level),\n",
        "                Transform(title[-1], Text(str(level)).move_to(title[-1])),\n",
        "            )\n",
        "            self.wait()"
      ],
      "metadata": {
        "id": "EVcPR-qeVrCJ"
      },
      "execution_count": null,
      "outputs": []
    },
    {
      "cell_type": "markdown",
      "source": [
        "### Koch Snowflake"
      ],
      "metadata": {
        "id": "gRBEacNqWLxd"
      }
    },
    {
      "cell_type": "code",
      "source": [
        "%%manim -qm Snowflake\n",
        "\n",
        "class Snowflake(Scene):\n",
        "    def construct(self):\n",
        "        color = [ManimColor(hex) for hex in (\"#0ADBEF\", \"#0A68EF\", \"#1F0AEF\")]\n",
        "        ks = KochSnowflake(level=1, fill_color=color)\n",
        "        title = Text(\"Koch Snowflake\\nLevel 1\").to_corner(UL, buff=0.75)\n",
        "\n",
        "        self.add(title, ks)\n",
        "        self.wait()\n",
        "\n",
        "        for level in (2, 3, 2, 1):\n",
        "            self.play(\n",
        "                ks.animate.new_level(level),\n",
        "                Transform(title[-1], Text(str(level)).move_to(title[-1])),\n",
        "            )\n",
        "            self.wait()"
      ],
      "metadata": {
        "id": "JiGhvUHdWMDB"
      },
      "execution_count": null,
      "outputs": []
    },
    {
      "cell_type": "markdown",
      "source": [
        "### Koch Antisnowflake"
      ],
      "metadata": {
        "id": "MhPlZF5AXb71"
      }
    },
    {
      "cell_type": "code",
      "source": [
        "%%manim -qm Antisnowflake\n",
        "\n",
        "class Antisnowflake(Scene):\n",
        "    def construct(self):\n",
        "        color = [ManimColor(hex) for hex in (\"#1F0AEF\", \"#0A68EF\", \"#0ADBEF\")]\n",
        "        ks = KochSnowflake(level=1, invert=True, fill_color=color)\n",
        "        title = Text(\"Koch Anti-\\nsnowflake\\nLevel 1\").to_corner(UL, buff=0.75)\n",
        "\n",
        "        self.add(title, ks)\n",
        "        self.wait()\n",
        "\n",
        "        for level in (2, 3, 2, 1):\n",
        "            self.play(\n",
        "                ks.animate.new_level(level),\n",
        "                Transform(title[-1], Text(str(level)).move_to(title[-1])),\n",
        "            )\n",
        "            self.wait()"
      ],
      "metadata": {
        "id": "NN3zOXn4XcRn"
      },
      "execution_count": null,
      "outputs": []
    },
    {
      "cell_type": "markdown",
      "source": [
        "### Dual Flakes"
      ],
      "metadata": {
        "id": "OrxAt_e3ehjp"
      }
    },
    {
      "cell_type": "code",
      "source": [
        "%%manim -qm DualFlakes\n",
        "\n",
        "class DualFlakes(Scene):\n",
        "    def construct(self):\n",
        "        snowflake = KochSnowflake(level=1, fill_color=ManimColor(\"#5d06e9\"))\n",
        "        anti_snowflake = KochSnowflake(\n",
        "            level=1, invert=True, fill_color=ManimColor(\"#9e0168\")\n",
        "        ).align_to(snowflake, UP)\n",
        "\n",
        "        self.add(snowflake, anti_snowflake)\n",
        "        self.wait()\n",
        "\n",
        "        for level in (2, 3, 2, 1):\n",
        "            self.play(\n",
        "                snowflake.animate.new_level(level),\n",
        "                anti_snowflake.animate.new_level(level),\n",
        "                run_time=1.5,\n",
        "            )\n",
        "            self.wait(1.5)"
      ],
      "metadata": {
        "id": "yPtMgub4eh-7"
      },
      "execution_count": null,
      "outputs": []
    },
    {
      "cell_type": "markdown",
      "source": [
        "### End Session\n",
        "\n",
        "Run the cell below to disconnect the runtime and terminate the session."
      ],
      "metadata": {
        "id": "4Vzp6XMkeoci"
      }
    },
    {
      "cell_type": "code",
      "source": [
        "from google.colab import runtime\n",
        "runtime.unassign()"
      ],
      "metadata": {
        "id": "aC2_yLZEepGW"
      },
      "execution_count": null,
      "outputs": []
    }
  ]
}