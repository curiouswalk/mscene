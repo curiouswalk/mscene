{
  "nbformat": 4,
  "nbformat_minor": 0,
  "metadata": {
    "colab": {
      "provenance": [],
      "gpuType": "V28",
      "include_colab_link": true
    },
    "kernelspec": {
      "name": "python3",
      "display_name": "Python 3"
    },
    "language_info": {
      "name": "python"
    },
    "accelerator": "TPU"
  },
  "cells": [
    {
      "cell_type": "markdown",
      "metadata": {
        "id": "view-in-github",
        "colab_type": "text"
      },
      "source": [
        "<a href=\"https://colab.research.google.com/github/curiouswalk/mscene/blob/main/source/scenes/cycloids.ipynb\" target=\"_parent\"><img src=\"https://colab.research.google.com/assets/colab-badge.svg\" alt=\"Open In Colab\"/></a>"
      ]
    },
    {
      "cell_type": "markdown",
      "source": [
        "# Cycloids\n",
        "\n",
        "<img width=\"50%\" src=\"https://mscene.curiouswalk.com/assets/cycloids.png\">\n",
        "\n",
        "Learn how a circle rolls along a straight line, creating a cycloid, and explore its variations: epicycloid and hypocycloid, formed when they roll along the outside or inside edge of another circle. Roll circles in different configurations to draw various cycloidal curves and visualize the intriguing patterns. Simulate to study the applications of these fascinating curves in multiple fields, including mathematics, physics, and engineering. Perfect for anyone curious about the geometry of rolling circles. &#10024;&nbsp;[mscene.curiouswalk.com/scenes/cycloids](https://mscene.curiouswalk.com/scenes/cycloids)"
      ],
      "metadata": {
        "id": "Vf3VcAXsKO6b"
      }
    },
    {
      "cell_type": "markdown",
      "source": [
        "## Setup"
      ],
      "metadata": {
        "id": "GqUiZVjOMz_r"
      }
    },
    {
      "cell_type": "markdown",
      "source": [
        "Installation"
      ],
      "metadata": {
        "id": "c34lKbph84az"
      }
    },
    {
      "cell_type": "code",
      "execution_count": null,
      "metadata": {
        "id": "adwd99STI--b"
      },
      "outputs": [],
      "source": [
        "%pip install -q mscene\n",
        "import mscene\n",
        "%mscene -l manim plugins"
      ]
    },
    {
      "cell_type": "markdown",
      "source": [
        "Imports"
      ],
      "metadata": {
        "id": "IBrxn3hZ85MR"
      }
    },
    {
      "cell_type": "code",
      "source": [
        "from mscene.manim import *\n",
        "from mscene.roulette import *"
      ],
      "metadata": {
        "id": "EkbTlUS-f2Gm"
      },
      "execution_count": null,
      "outputs": []
    },
    {
      "cell_type": "markdown",
      "source": [
        "## Scenes\n",
        "\n",
        "* [**Cycloid**](https://mscene.curiouswalk.com/scenes/cycloids/cycloid)\n",
        "* [**Epicycloid**](https://mscene.curiouswalk.com/scenes/cycloids/epicycloid)\n",
        "* [**Hypocycloid**](https://mscene.curiouswalk.com/scenes/cycloids/hypocycloid)"
      ],
      "metadata": {
        "id": "iiS7LDtw0Rrq"
      }
    },
    {
      "cell_type": "code",
      "source": [
        "%%manim -qm Cycloids\n",
        "\n",
        "class Cycloids(Scene):\n",
        "    def construct(self):\n",
        "        radius = 0.8\n",
        "        length = TAU * radius\n",
        "\n",
        "        circle_one = Circle(radius=radius, color=ManimColor(\"#C5C9C7\")).rotate(PI / 2)\n",
        "\n",
        "        circle_two = Circle(radius=3 * radius, color=ManimColor(\"#C5C9C7\")).rotate(\n",
        "            PI / 2\n",
        "        )\n",
        "\n",
        "        line_end = circle_two.get_bottom()\n",
        "        line_start = line_end + length * LEFT\n",
        "\n",
        "        line = Line(line_start, line_end, color=ManimColor(\"#C5C9C7\"))\n",
        "\n",
        "        wheel = Wheel(radius=radius, color=ManimColor(\"#04D9FF\"))\n",
        "\n",
        "        self.play(GrowFromCenter(wheel))\n",
        "        self.wait()\n",
        "\n",
        "        self.play(Create(line), wheel.animate.move(line_start, UP))\n",
        "        self.bring_to_front(wheel)\n",
        "\n",
        "        marker = [(1, PI / 2, ManimColor(\"#6019E3\"))]\n",
        "        self.play(wheel.draw_markers(marker))\n",
        "\n",
        "        path = wheel.trace_paths(dissipating_time=2)\n",
        "        self.add(path)\n",
        "\n",
        "        # rolls along the line\n",
        "        self.play(wheel.roll(length * RIGHT, run_time=2.5))\n",
        "        self.wait()\n",
        "\n",
        "        self.play(ReplacementTransform(line, circle_one))\n",
        "        self.wait()\n",
        "\n",
        "        # rolls along the outer edge of circle one\n",
        "        self.play(wheel.roll(TAU, about=circle_one, run_time=2.5))\n",
        "        self.wait()\n",
        "\n",
        "        self.play(ReplacementTransform(circle_one, circle_two))\n",
        "        self.wait()\n",
        "\n",
        "        # rolls along the inner edge of circle two\n",
        "        self.play(wheel.roll(TAU, about=circle_two, run_time=3))\n",
        "        self.wait(2)\n",
        "        path.clear_updaters()\n",
        "        self.remove(path)\n",
        "        self.play(wheel.undraw_markers())\n",
        "\n",
        "        self.play(Uncreate(circle_two), wheel.animate.move(ORIGIN))\n",
        "        self.wait()\n",
        "\n",
        "        self.play(ShrinkToCenter(wheel))\n",
        "        self.wait(0.5)"
      ],
      "metadata": {
        "id": "YPWP-Id8UAlZ"
      },
      "execution_count": null,
      "outputs": []
    },
    {
      "cell_type": "markdown",
      "source": [
        "## Download Script\n",
        "\n",
        "Run the cell below to download the scene script."
      ],
      "metadata": {
        "id": "X4N5yMv49AsN"
      }
    },
    {
      "cell_type": "code",
      "source": [
        "import mscene\n",
        "%mscene cycloids.py"
      ],
      "metadata": {
        "id": "OBupcua-9PrD"
      },
      "execution_count": null,
      "outputs": []
    },
    {
      "cell_type": "markdown",
      "source": [
        "## End Session\n",
        "\n",
        "Run the cell below to disconnect the runtime and terminate the session."
      ],
      "metadata": {
        "id": "4Vzp6XMkeoci"
      }
    },
    {
      "cell_type": "code",
      "source": [
        "from google.colab import runtime\n",
        "runtime.unassign()"
      ],
      "metadata": {
        "id": "aC2_yLZEepGW"
      },
      "execution_count": null,
      "outputs": []
    }
  ]
}