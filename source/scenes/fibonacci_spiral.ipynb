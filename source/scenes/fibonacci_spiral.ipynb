{
  "nbformat": 4,
  "nbformat_minor": 0,
  "metadata": {
    "colab": {
      "provenance": [],
      "gpuType": "V28",
      "include_colab_link": true
    },
    "kernelspec": {
      "name": "python3",
      "display_name": "Python 3"
    },
    "language_info": {
      "name": "python"
    },
    "accelerator": "TPU"
  },
  "cells": [
    {
      "cell_type": "markdown",
      "metadata": {
        "id": "view-in-github",
        "colab_type": "text"
      },
      "source": [
        "<a href=\"https://colab.research.google.com/github/curiouswalk/mscene/blob/main/source/scenes/fibonacci_spiral.ipynb\" target=\"_parent\"><img src=\"https://colab.research.google.com/assets/colab-badge.svg\" alt=\"Open In Colab\"/></a>"
      ]
    },
    {
      "cell_type": "markdown",
      "source": [
        "# Fibonacci Spiral\n",
        "\n",
        "<img width=\"50%\" src=\"https://mscene.curiouswalk.com/assets/site/fibonacci_spiral.png\">\n",
        "\n",
        "There is a fascinating relation between the Fibonacci sequence and natural patterns. A remarkable example is the Fibonacci spiral, which is constructed by adding arcs of quarter circles with radii corresponding to Fibonacci numbers, making a beautiful mathematical pattern often observed throughout nature. &#10024;&nbsp;[mscene.curiouswalk.com/scenes/fibonacci-spiral](https://mscene.curiouswalk.com/scenes/fibonacci-spiral)"
      ],
      "metadata": {
        "id": "dvWWLMVHCb-T"
      }
    },
    {
      "cell_type": "markdown",
      "source": [
        "## Setup"
      ],
      "metadata": {
        "id": "vfZ93w_MEEY3"
      }
    },
    {
      "cell_type": "markdown",
      "source": [
        "Installation"
      ],
      "metadata": {
        "id": "Qe4RtUGrEGtk"
      }
    },
    {
      "cell_type": "code",
      "execution_count": null,
      "metadata": {
        "id": "JixaeT6PCD-u"
      },
      "outputs": [],
      "source": [
        "%pip install -q mscene\n",
        "import mscene\n",
        "%mscene -l manim"
      ]
    },
    {
      "cell_type": "markdown",
      "source": [
        "Imports"
      ],
      "metadata": {
        "id": "iDEC75jgEJCh"
      }
    },
    {
      "cell_type": "code",
      "source": [
        "from mscene.manim import *"
      ],
      "metadata": {
        "id": "gAhb9ICXCLiv"
      },
      "execution_count": null,
      "outputs": []
    },
    {
      "cell_type": "markdown",
      "source": [
        "## Objects\n",
        "\n",
        "Functions to create objects for animation scenes."
      ],
      "metadata": {
        "id": "qwNARuh9IKwi"
      }
    },
    {
      "cell_type": "code",
      "source": [
        "def fseq(n, a=0, b=1):\n",
        "    \"\"\"Return the first n Fibonacci numbers starting with a and b.\"\"\"\n",
        "    seq = []\n",
        "    for _ in range(n):\n",
        "        seq.append(a)\n",
        "        a, b = b, a + b\n",
        "    return seq\n",
        "\n",
        "\n",
        "def fsmob(n, width=None, height=None):\n",
        "    \"\"\"VGroup of Mobjects for the Fibonacci spiral.\n",
        "\n",
        "    Args:\n",
        "        n (int): Number of first Fibonacci terms.\n",
        "        width (float | None): Width of the object (default: None).\n",
        "        height (float | None): Height of the object (default: None).\n",
        "\n",
        "    Returns:\n",
        "        VGroup of Square, Text, ArcBetweenPoints and Dot.\n",
        "    \"\"\"\n",
        "    sqr_color = ManimColor(\"#214761\")\n",
        "    txt_color = ManimColor(\"#516572\")\n",
        "    arc_color = ManimColor(\"#04d9ff\")\n",
        "    dot_color = ManimColor(\"#cfff04\")\n",
        "\n",
        "    seq = fseq(n, 1)\n",
        "\n",
        "    if width and not height:\n",
        "        scale = width / sum(seq[-2:])\n",
        "    elif height and not width:\n",
        "        scale = height / seq[-1]\n",
        "    else:\n",
        "        scale = 1\n",
        "\n",
        "    mobjects = VGroup()\n",
        "    squares = VGroup()\n",
        "\n",
        "    if len(seq) % 2:\n",
        "        angle = PI / 2\n",
        "        direction = (RIGHT, UP, LEFT, DOWN)\n",
        "        dot_index = (0, -1, -1, 0)\n",
        "    else:\n",
        "        angle = -PI / 2\n",
        "        direction = (UP, RIGHT, DOWN, LEFT)\n",
        "        dot_index = (0, 0, -1, -1)\n",
        "\n",
        "    corner = (DL, UL)\n",
        "\n",
        "    for i, t in enumerate(seq):\n",
        "        square = Square(t * scale, stroke_width=6, color=sqr_color).next_to(\n",
        "            squares,\n",
        "            direction[i % 4],\n",
        "            buff=0,\n",
        "        )\n",
        "\n",
        "        dots = VGroup(\n",
        "            Dot(square.get_corner(corner[i % 2]), color=dot_color),\n",
        "            Dot(square.get_corner(-corner[i % 2]), color=dot_color),\n",
        "        )\n",
        "\n",
        "        arc = ArcBetweenPoints(\n",
        "            dots[dot_index[i % 4]].get_center(),\n",
        "            dots[dot_index[i % 4] + 1].get_center(),\n",
        "            angle=angle,\n",
        "            color=arc_color,\n",
        "            stroke_width=6,\n",
        "        )\n",
        "\n",
        "        text = (\n",
        "            Text(f\"{t}×{t}\", color=txt_color)\n",
        "            .scale_to_fit_width(square.width * 0.5)\n",
        "            .move_to(square)\n",
        "        )\n",
        "\n",
        "        vgrp = VGroup(square, text, arc, dots)\n",
        "        vgrp[2:].set_z_index(1)\n",
        "        squares.add(square)\n",
        "        mobjects.add(vgrp)\n",
        "\n",
        "    mobjects.center()\n",
        "\n",
        "    return mobjects\n",
        "\n",
        "\n",
        "def fsmob_anim(mob, mode=\"IN\", lag_ratio=0.125, **kwargs):\n",
        "    \"\"\"Return an AnimationGroup for the Fibonacci spiral.\"\"\"\n",
        "\n",
        "    if mode == \"IN\":\n",
        "\n",
        "        anim = [(FadeIn(i[0]), Write(i[1]), Create(i[2]), FadeIn(i[3])) for i in mob]\n",
        "    elif mode == \"OUT\":\n",
        "        anim = [\n",
        "            (FadeOut(i[0]), Unwrite(i[1]), Uncreate(i[2]), FadeOut(i[3]))\n",
        "            for i in mob[::-1]\n",
        "        ]\n",
        "    else:\n",
        "        raise ValueError(\"mode must be 'IN' or 'OUT'\")\n",
        "\n",
        "    return AnimationGroup(*anim, lag_ratio=lag_ratio, **kwargs)\n"
      ],
      "metadata": {
        "id": "CsASQ3YdILDm"
      },
      "execution_count": null,
      "outputs": []
    },
    {
      "cell_type": "markdown",
      "source": [
        "## Scenes"
      ],
      "metadata": {
        "id": "994HuJVIajqz"
      }
    },
    {
      "cell_type": "code",
      "source": [
        "%%manim -sqh FibonacciSpiral\n",
        "# @title Fibonacci Spiral\n",
        "\n",
        "class FibonacciSpiral(Scene):\n",
        "    def construct(self):\n",
        "        n = 6  # @param {\"type\":\"number\",\"placeholder\":\"Enter the number of Fibonacci terms.\"}\n",
        "        n = 1 if n < 1 else n\n",
        "        sf = 1 / 2 if n < 3 else 3 / 4\n",
        "        height = config.frame_height * sf\n",
        "        mob = fsmob(n, height=height)\n",
        "        print(f\"First {n} terms of the Fibonacci sequence:\", end=\" \")\n",
        "        print(*fseq(n, 1), sep=\", \", end=\"\\n\\n\")\n",
        "        self.add(mob)"
      ],
      "metadata": {
        "id": "bZda84v-2dkh",
        "cellView": "form"
      },
      "execution_count": null,
      "outputs": []
    },
    {
      "cell_type": "markdown",
      "source": [
        "### Scene One"
      ],
      "metadata": {
        "id": "BzPYhzIYae40"
      }
    },
    {
      "cell_type": "code",
      "source": [
        "n = 25\n",
        "print(f\"First {n} terms of the Fibonacci sequence:\", end=\" \")\n",
        "print(*fseq(n), sep=\", \")"
      ],
      "metadata": {
        "id": "FsFXGC5RZERZ"
      },
      "execution_count": null,
      "outputs": []
    },
    {
      "cell_type": "code",
      "source": [
        "%%manim -qm SceneOne\n",
        "\n",
        "class SceneOne(Scene):\n",
        "    def construct(self):\n",
        "        seq = fseq(25)\n",
        "        width = config.frame_width * 3 / 4\n",
        "        seq_str = \", \".join(map(str, seq)) + \", ...\"\n",
        "\n",
        "        title = Text(\"Fibonacci Sequence\").scale_to_fit_width(width * 3 / 4)\n",
        "        text = MarkupText(seq_str, width=width, justify=True, font_size=130)\n",
        "        VGroup(title, text).arrange(DOWN, buff=3 / 4)\n",
        "\n",
        "        self.play(Write(title), Write(text, run_time=3))\n",
        "        self.wait(3)"
      ],
      "metadata": {
        "id": "lpwyhULxJLTu"
      },
      "execution_count": null,
      "outputs": []
    },
    {
      "cell_type": "markdown",
      "source": [
        "### Scene Two"
      ],
      "metadata": {
        "id": "7i9Qjd660jWx"
      }
    },
    {
      "cell_type": "code",
      "source": [
        "%%manim -qm SceneTwo\n",
        "\n",
        "class SceneTwo(Scene):\n",
        "    def construct(self):\n",
        "        manim_image(self)\n",
        "        width = config.frame_width * 3 / 4\n",
        "        mob = fsmob(6, width=width)\n",
        "\n",
        "        self.play(fsmob_anim(mob))\n",
        "        self.wait(2.5)\n",
        "\n",
        "        self.play(fsmob_anim(mob, mode=\"OUT\"))\n",
        "        self.wait(0.5)"
      ],
      "metadata": {
        "id": "4-UICKK0kcRM"
      },
      "execution_count": null,
      "outputs": []
    },
    {
      "cell_type": "markdown",
      "source": [
        "### Scene Three"
      ],
      "metadata": {
        "id": "ASnS01_W3CJ7"
      }
    },
    {
      "cell_type": "code",
      "source": [
        "%%manim -qm SceneThree\n",
        "\n",
        "class SceneThree(Scene):\n",
        "    def construct(self):\n",
        "        width = config.frame_width * 3 / 4\n",
        "        terms = [4, 8, 12]\n",
        "        term = None\n",
        "        mob = None\n",
        "\n",
        "        for n in terms:\n",
        "            _mob = fsmob(n, width)\n",
        "\n",
        "            if mob is None:\n",
        "                self.play(fsmob_anim(_mob))\n",
        "            else:\n",
        "                i = term if term < n else -1\n",
        "                self.play(ReplacementTransform(mob, _mob[:i]))\n",
        "                self.wait(0.5)\n",
        "                self.play(fsmob_anim(_mob[i:]))\n",
        "\n",
        "            mob = _mob\n",
        "            term = n\n",
        "            self.wait(1.5)\n",
        "\n",
        "        self.play(fsmob_anim(mob, mode=\"OUT\", lag_ratio=0))\n",
        "        self.wait(0.5)"
      ],
      "metadata": {
        "id": "XiJ9FA52khQW"
      },
      "execution_count": null,
      "outputs": []
    },
    {
      "cell_type": "markdown",
      "source": [
        "### Scene Four"
      ],
      "metadata": {
        "id": "5AhcdR6t8ChM"
      }
    },
    {
      "cell_type": "code",
      "source": [
        "%%manim -qm SceneFour\n",
        "\n",
        "class SceneFour(Scene):\n",
        "    def construct(self):\n",
        "        n = 12\n",
        "        width = config.frame_width * 3 / 4\n",
        "        mob = fsmob(n, width)\n",
        "        mob.save_state()\n",
        "\n",
        "        width *= sum(fseq(n)[-2:]) * 3 / 4\n",
        "        _mob = fsmob(n, width)\n",
        "        _mob.shift(-_mob[0].get_center())\n",
        "\n",
        "        self.add(mob)\n",
        "        self.wait(0.5)\n",
        "\n",
        "        self.play(Transform(mob, _mob, run_time=6))\n",
        "        self.wait(2)\n",
        "\n",
        "        self.play(Restore(mob, run_time=4))\n",
        "        self.wait(0.5)"
      ],
      "metadata": {
        "id": "7JrAqW--3Ucl"
      },
      "execution_count": null,
      "outputs": []
    },
    {
      "cell_type": "markdown",
      "source": [
        "## End Session\n",
        "\n",
        "Run the cell below to disconnect the runtime and terminate the session."
      ],
      "metadata": {
        "id": "DUB1R9jiPvfm"
      }
    },
    {
      "cell_type": "code",
      "source": [
        "from google.colab import runtime\n",
        "runtime.unassign()"
      ],
      "metadata": {
        "id": "nRudbBSBOlQn"
      },
      "execution_count": null,
      "outputs": []
    }
  ]
}