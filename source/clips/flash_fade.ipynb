{
  "nbformat": 4,
  "nbformat_minor": 0,
  "metadata": {
    "colab": {
      "provenance": [],
      "gpuType": "V28",
      "authorship_tag": "ABX9TyOAr0hextHh8vGuN73XTk6c",
      "include_colab_link": true
    },
    "kernelspec": {
      "name": "python3",
      "display_name": "Python 3"
    },
    "language_info": {
      "name": "python"
    },
    "accelerator": "TPU"
  },
  "cells": [
    {
      "cell_type": "markdown",
      "metadata": {
        "id": "view-in-github",
        "colab_type": "text"
      },
      "source": [
        "<a href=\"https://colab.research.google.com/github/curiouswalk/mscene/blob/main/source/clips/flash_fade.ipynb\" target=\"_parent\"><img src=\"https://colab.research.google.com/assets/colab-badge.svg\" alt=\"Open In Colab\"/></a>"
      ]
    },
    {
      "cell_type": "markdown",
      "source": [
        "# Flash Fade\n",
        "\n",
        "`FlashFade` is an animation for fading VMobjects with flashing outlines."
      ],
      "metadata": {
        "id": "Y_zEyJhMI89n"
      }
    },
    {
      "cell_type": "markdown",
      "source": [
        "## Setup"
      ],
      "metadata": {
        "id": "-56bTsZD8Wvk"
      }
    },
    {
      "cell_type": "markdown",
      "source": [
        "Installation"
      ],
      "metadata": {
        "id": "Nftp_no9RWWN"
      }
    },
    {
      "cell_type": "code",
      "execution_count": null,
      "metadata": {
        "id": "0H01NHPM6l-8"
      },
      "outputs": [],
      "source": [
        "%pip install -q mscene\n",
        "import mscene\n",
        "%mscene -l manim plugins"
      ]
    },
    {
      "cell_type": "markdown",
      "source": [
        "Imports"
      ],
      "metadata": {
        "id": "awqF3HPMRdAe"
      }
    },
    {
      "cell_type": "code",
      "source": [
        "from mscene.manim import *\n",
        "from mscene.plugins import FlashFade\n",
        "print(FlashFade.__doc__)"
      ],
      "metadata": {
        "id": "GeFqrCHT8cB2"
      },
      "execution_count": null,
      "outputs": []
    },
    {
      "cell_type": "markdown",
      "source": [
        "# Scenes"
      ],
      "metadata": {
        "id": "Cjbv_GHx-hdQ"
      }
    },
    {
      "cell_type": "markdown",
      "source": [
        "Scene One"
      ],
      "metadata": {
        "id": "6uHpp6QLRqq-"
      }
    },
    {
      "cell_type": "code",
      "source": [
        "%%manim -qm SceneOne\n",
        "\n",
        "class SceneOne(Scene):\n",
        "    def construct(self):\n",
        "        text = Text(\"Hello World\", font_size=140)\n",
        "        blues = [BLUE_A, BLUE_C, BLUE_E]\n",
        "        kwargs = dict(color=blues, width=6, duration=1.5)\n",
        "\n",
        "        self.play(FlashFade(text, mode=\"IN\", **kwargs))\n",
        "        self.wait(1.5)\n",
        "\n",
        "        self.play(FlashFade(text, mode=\"OUT\", reverse=True, **kwargs))\n",
        "        self.wait()\n",
        "\n",
        "        self.play(FlashFade(text, **kwargs))\n",
        "        self.wait(0.5)"
      ],
      "metadata": {
        "id": "yowjL9pc-jhf"
      },
      "execution_count": null,
      "outputs": []
    },
    {
      "cell_type": "markdown",
      "source": [
        "Scene Two"
      ],
      "metadata": {
        "id": "2PwiyPofRtPR"
      }
    },
    {
      "cell_type": "code",
      "source": [
        "%%manim -qm SceneTwo\n",
        "\n",
        "class SceneTwo(Scene):\n",
        "    def construct(self):\n",
        "        # Aibohphobia is a (humorous) term for the irrational fear of palindromes.\n",
        "        text = Text(\"AIBOHPHOBIA\", font_size=100)\n",
        "        tp1 = text[:5]\n",
        "        tp2 = text[5:]\n",
        "        reds = [RED_A, RED_C, RED_E]\n",
        "        kwargs = dict(color=reds, width=5, duration=1.5, lag_ratio=0.25)\n",
        "\n",
        "        self.play(\n",
        "            FlashFade(tp1, mode=\"IN\", reverse=True, **kwargs),\n",
        "            FlashFade(tp2, mode=\"IN\", **kwargs),\n",
        "        )\n",
        "        self.wait(1.5)\n",
        "\n",
        "        self.play(\n",
        "            FlashFade(tp1, mode=\"OUT\", **kwargs),\n",
        "            FlashFade(tp2, mode=\"OUT\", reverse=True, **kwargs),\n",
        "        )\n",
        "        self.wait(0.5)"
      ],
      "metadata": {
        "id": "EJQGxdlD-kOt"
      },
      "execution_count": null,
      "outputs": []
    },
    {
      "cell_type": "markdown",
      "source": [
        "Scene Three"
      ],
      "metadata": {
        "id": "UV22ecE4RusP"
      }
    },
    {
      "cell_type": "code",
      "source": [
        "%%manim -qm SceneThree\n",
        "\n",
        "class SceneThree(Scene):\n",
        "    def construct(self):\n",
        "        shapes = ManimBanner()[0].fade().center()\n",
        "        self.play(FlashFade(shapes, width=6, opacity=1, lag_ratio=0.5, duration=1.5))\n",
        "        self.wait(0.5)"
      ],
      "metadata": {
        "id": "buG206GpH5HC"
      },
      "execution_count": null,
      "outputs": []
    },
    {
      "cell_type": "markdown",
      "source": [
        "## End Session\n",
        "\n",
        "Run the cell below to disconnect the runtime and terminate the session."
      ],
      "metadata": {
        "id": "ltpqk5LuQUZP"
      }
    },
    {
      "cell_type": "code",
      "source": [
        "from google.colab import runtime\n",
        "runtime.unassign()"
      ],
      "metadata": {
        "id": "F3Nxfl5oMNQ6"
      },
      "execution_count": null,
      "outputs": []
    }
  ]
}